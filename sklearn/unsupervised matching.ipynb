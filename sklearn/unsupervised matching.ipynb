{
 "cells": [
  {
   "cell_type": "markdown",
   "metadata": {},
   "source": [
    "# Question\n",
    "\n",
    "There is a formal list of medical surgery names, defined in surgeries.txt.\n",
    "Then in doctors’ notes, there is a field called \"surgery names\". doctor_written_surgery_name.txt is a sample of it. We want a method to check if each doctor written surgery name could be matched to a formal surgery name or not. A few things to notice:\n",
    "\n",
    "1) in doctors’ notes, there could be typos.\n",
    "\n",
    "2) some words are short, but they are important, for example “hip replacement” and “wrist replacement” are totaly different things, although they have a long common substring.\n",
    "\n",
    "3) some substrings, like ‘ectomy’, ‘replacement’ might appear in many different surgeries names.\n",
    "\n",
    "4) different word orders might not matter, for example \"hip arthroplasty total\" and \"total hip arthroplasty\" mean the same thing.\n",
    "\n",
    "5) There is no labeled training data."
   ]
  },
  {
   "cell_type": "markdown",
   "metadata": {},
   "source": [
    "# Solution\n",
    "\n",
    "### Author: Linsu Han"
   ]
  },
  {
   "cell_type": "markdown",
   "metadata": {},
   "source": [
    "## 1) Basic Cleaning"
   ]
  },
  {
   "cell_type": "code",
   "execution_count": 1,
   "metadata": {},
   "outputs": [],
   "source": [
    "import pandas as pd\n",
    "import string"
   ]
  },
  {
   "cell_type": "code",
   "execution_count": 2,
   "metadata": {},
   "outputs": [],
   "source": [
    "with open('../data/doctor-notes/surgeries.txt', 'r') as f:\n",
    "    names = f.readlines()\n",
    "    \n",
    "with open('../data/doctor-notes/doctor_written_surgery_name.txt', 'r') as f:\n",
    "    notes = f.readlines()"
   ]
  },
  {
   "cell_type": "code",
   "execution_count": 3,
   "metadata": {},
   "outputs": [],
   "source": [
    "def clean_text(text): \n",
    "    delete_dict = {sp_character:'' for sp_character in string.punctuation} # filter punct\n",
    "    delete_dict[' '] = ' ' \n",
    "    table = str.maketrans(delete_dict)\n",
    "    text1 = text.translate(table)\n",
    "    textlist = text1.split()\n",
    "    text2 = ' '.join([w for w in textlist if not w.isdigit()]) # delete digits\n",
    "    return text2.lower()"
   ]
  },
  {
   "cell_type": "code",
   "execution_count": 4,
   "metadata": {},
   "outputs": [
    {
     "data": {
      "text/plain": [
       "'!\"#$%&\\'()*+,-./:;<=>?@[\\\\]^_`{|}~'"
      ]
     },
     "execution_count": 4,
     "metadata": {},
     "output_type": "execute_result"
    }
   ],
   "source": [
    "string.punctuation"
   ]
  },
  {
   "cell_type": "code",
   "execution_count": 5,
   "metadata": {},
   "outputs": [],
   "source": [
    "notes_clean = [clean_text(note) for note in notes]\n",
    "names_clean = [clean_text(name) for name in names]"
   ]
  },
  {
   "cell_type": "code",
   "execution_count": 6,
   "metadata": {},
   "outputs": [
    {
     "data": {
      "text/plain": [
       "['scheduled',\n",
       " 'l shoulder arthroscopy',\n",
       " 'will be on',\n",
       " 'schedule frobotic assisted laparoscopic assisted versus open',\n",
       " 'diastasis recti']"
      ]
     },
     "execution_count": 6,
     "metadata": {},
     "output_type": "execute_result"
    }
   ],
   "source": [
    "notes_clean[:5]"
   ]
  },
  {
   "cell_type": "code",
   "execution_count": 7,
   "metadata": {},
   "outputs": [
    {
     "data": {
      "text/plain": [
       "['abdominoplasty',\n",
       " 'panniculectomy',\n",
       " 'achilles tendon',\n",
       " 'peroneal tendon repair',\n",
       " 'acl reconstruction']"
      ]
     },
     "execution_count": 7,
     "metadata": {},
     "output_type": "execute_result"
    }
   ],
   "source": [
    "names_clean[:5]"
   ]
  },
  {
   "cell_type": "markdown",
   "metadata": {},
   "source": [
    "## 2) Additional Preprocessing"
   ]
  },
  {
   "cell_type": "markdown",
   "metadata": {},
   "source": [
    "### 2.1) Fixing Typos"
   ]
  },
  {
   "cell_type": "code",
   "execution_count": 8,
   "metadata": {},
   "outputs": [
    {
     "name": "stderr",
     "output_type": "stream",
     "text": [
      "c:\\program files\\python38\\lib\\site-packages\\fuzzywuzzy\\fuzz.py:11: UserWarning: Using slow pure-python SequenceMatcher. Install python-Levenshtein to remove this warning\n",
      "  warnings.warn('Using slow pure-python SequenceMatcher. Install python-Levenshtein to remove this warning')\n"
     ]
    }
   ],
   "source": [
    "from fuzzywuzzy import fuzz\n",
    "from fuzzywuzzy import process\n",
    "# https://github.com/seatgeek/fuzzywuzzy"
   ]
  },
  {
   "cell_type": "code",
   "execution_count": 9,
   "metadata": {},
   "outputs": [],
   "source": [
    "spellings = set()\n",
    "for phrase in names_clean:\n",
    "    for word in phrase.split(' '):\n",
    "        spellings.add(word)"
   ]
  },
  {
   "cell_type": "code",
   "execution_count": 10,
   "metadata": {},
   "outputs": [
    {
     "name": "stdout",
     "output_type": "stream",
     "text": [
      "cholecyctectomy cholecystectomy 93\n"
     ]
    },
    {
     "name": "stderr",
     "output_type": "stream",
     "text": [
      "WARNING:root:Applied processor reduces input query to empty string, all comparisons will have score 0. [Query: '']\n",
      "WARNING:root:Applied processor reduces input query to empty string, all comparisons will have score 0. [Query: '']\n"
     ]
    },
    {
     "name": "stdout",
     "output_type": "stream",
     "text": [
      "arthoplasty arthroplasty 96\n",
      "fusion fusions 92\n",
      "bunionectoy bunionectomy 96\n",
      "catheterization catherization 93\n",
      "replacment replacement 95\n",
      "cholocystectomy cholecystectomy 93\n",
      "cathetarization catherization 93\n"
     ]
    },
    {
     "name": "stderr",
     "output_type": "stream",
     "text": [
      "WARNING:root:Applied processor reduces input query to empty string, all comparisons will have score 0. [Query: '']\n"
     ]
    },
    {
     "name": "stdout",
     "output_type": "stream",
     "text": [
      "fusion fusions 92\n",
      "orthroplasty arthroplasty 92\n",
      "arthoplasty arthroplasty 96\n"
     ]
    },
    {
     "name": "stderr",
     "output_type": "stream",
     "text": [
      "WARNING:root:Applied processor reduces input query to empty string, all comparisons will have score 0. [Query: '']\n"
     ]
    },
    {
     "name": "stdout",
     "output_type": "stream",
     "text": [
      "cholecustectomy cholecystectomy 93\n",
      "injection injections 95\n"
     ]
    },
    {
     "name": "stderr",
     "output_type": "stream",
     "text": [
      "WARNING:root:Applied processor reduces input query to empty string, all comparisons will have score 0. [Query: '']\n"
     ]
    },
    {
     "name": "stdout",
     "output_type": "stream",
     "text": [
      "injection injections 95\n",
      "anthroplasty arthroplasty 92\n",
      "loparoscopy laparoscopy 91\n",
      "fusion fusions 92\n",
      "fusion fusions 92\n"
     ]
    },
    {
     "name": "stderr",
     "output_type": "stream",
     "text": [
      "WARNING:root:Applied processor reduces input query to empty string, all comparisons will have score 0. [Query: '']\n"
     ]
    },
    {
     "name": "stdout",
     "output_type": "stream",
     "text": [
      "appenoectomy appendectomy 92\n",
      "fusion fusions 92\n",
      "catherisation catherization 92\n",
      "beast breast 91\n",
      "appendectory appendectomy 92\n"
     ]
    },
    {
     "name": "stderr",
     "output_type": "stream",
     "text": [
      "WARNING:root:Applied processor reduces input query to empty string, all comparisons will have score 0. [Query: '']\n"
     ]
    },
    {
     "name": "stdout",
     "output_type": "stream",
     "text": [
      "released release 93\n"
     ]
    }
   ],
   "source": [
    "typos = dict()\n",
    "for note in notes_clean:\n",
    "    for word in note.split(' '):\n",
    "        closest_match, threshold = process.extractOne(word, spellings)\n",
    "        if 90 < threshold < 100:\n",
    "            typos[word] = closest_match\n",
    "            print(word, closest_match, threshold)"
   ]
  },
  {
   "cell_type": "code",
   "execution_count": 11,
   "metadata": {},
   "outputs": [
    {
     "data": {
      "text/plain": [
       "{'cholecyctectomy': 'cholecystectomy',\n",
       " 'arthoplasty': 'arthroplasty',\n",
       " 'fusion': 'fusions',\n",
       " 'bunionectoy': 'bunionectomy',\n",
       " 'catheterization': 'catherization',\n",
       " 'replacment': 'replacement',\n",
       " 'cholocystectomy': 'cholecystectomy',\n",
       " 'cathetarization': 'catherization',\n",
       " 'orthroplasty': 'arthroplasty',\n",
       " 'cholecustectomy': 'cholecystectomy',\n",
       " 'injection': 'injections',\n",
       " 'anthroplasty': 'arthroplasty',\n",
       " 'loparoscopy': 'laparoscopy',\n",
       " 'appenoectomy': 'appendectomy',\n",
       " 'catherisation': 'catherization',\n",
       " 'beast': 'breast',\n",
       " 'appendectory': 'appendectomy',\n",
       " 'released': 'release'}"
      ]
     },
     "execution_count": 11,
     "metadata": {},
     "output_type": "execute_result"
    }
   ],
   "source": [
    "typos"
   ]
  },
  {
   "cell_type": "code",
   "execution_count": 12,
   "metadata": {},
   "outputs": [],
   "source": [
    "def fix_typos(text): \n",
    "    for typo, correction in typos.items():\n",
    "        text = text.replace(typo, correction)\n",
    "    return text"
   ]
  },
  {
   "cell_type": "code",
   "execution_count": 13,
   "metadata": {},
   "outputs": [
    {
     "data": {
      "text/plain": [
       "'total knee replacement manipulation under anesthesia'"
      ]
     },
     "execution_count": 13,
     "metadata": {},
     "output_type": "execute_result"
    }
   ],
   "source": [
    "fix_typos('total knee replacment manipulation under anesthesia')"
   ]
  },
  {
   "cell_type": "code",
   "execution_count": 14,
   "metadata": {},
   "outputs": [],
   "source": [
    "notes_clean_fixedtypos = [fix_typos(note) for note in notes_clean]"
   ]
  },
  {
   "cell_type": "markdown",
   "metadata": {},
   "source": [
    "### 2.2) More"
   ]
  },
  {
   "cell_type": "code",
   "execution_count": 15,
   "metadata": {},
   "outputs": [],
   "source": [
    "# for slighty more matches try lemmatizing / stemming"
   ]
  },
  {
   "cell_type": "code",
   "execution_count": 16,
   "metadata": {},
   "outputs": [],
   "source": [
    "# bc the dataset is small, we could manually remove UNCOMMON useless terms (since idf only puts less weight on common terms)"
   ]
  },
  {
   "cell_type": "code",
   "execution_count": 17,
   "metadata": {},
   "outputs": [],
   "source": [
    "# bc dataset is small, can manually permute different word orders that have similar meanings (\"hip arthroplasty total\" and \"total hip arthroplasty\") to better support the n-gram model"
   ]
  },
  {
   "cell_type": "markdown",
   "metadata": {},
   "source": [
    "## 3) Use TF-IDF embeddings"
   ]
  },
  {
   "cell_type": "code",
   "execution_count": 18,
   "metadata": {},
   "outputs": [],
   "source": [
    "from tqdm import tqdm\n",
    "import numpy as np\n",
    "import matplotlib.pyplot as plt\n",
    "from sklearn.feature_extraction.text import TfidfVectorizer, CountVectorizer\n",
    "from sklearn.metrics.pairwise import cosine_similarity\n",
    "%matplotlib inline"
   ]
  },
  {
   "cell_type": "code",
   "execution_count": 19,
   "metadata": {},
   "outputs": [],
   "source": [
    "# Getting the max n-grams\n",
    "max_phrase_len = 1\n",
    "for name in names_clean:\n",
    "    name_len = len(name.split(' '))\n",
    "    if  name_len > max_phrase_len:\n",
    "        max_phrase_len = name_len"
   ]
  },
  {
   "cell_type": "code",
   "execution_count": 20,
   "metadata": {},
   "outputs": [],
   "source": [
    "tfv = TfidfVectorizer(min_df=3,\n",
    "                      max_features=None,\n",
    "                      strip_accents='unicode',\n",
    "                      analyzer='word',\n",
    "                      token_pattern=r'\\w{1,}',\n",
    "                      ngram_range=(1, max_phrase_len),\n",
    "                      use_idf=True,\n",
    "                      smooth_idf=True,\n",
    "                      sublinear_tf=True,\n",
    "                      stop_words='english')"
   ]
  },
  {
   "cell_type": "code",
   "execution_count": 21,
   "metadata": {},
   "outputs": [
    {
     "data": {
      "text/plain": [
       "TfidfVectorizer(min_df=3, ngram_range=(1, 4), stop_words='english',\n",
       "                strip_accents='unicode', sublinear_tf=True,\n",
       "                token_pattern='\\\\w{1,}')"
      ]
     },
     "execution_count": 21,
     "metadata": {},
     "output_type": "execute_result"
    }
   ],
   "source": [
    "tfv.fit(notes_clean_fixedtypos + names_clean)"
   ]
  },
  {
   "cell_type": "code",
   "execution_count": 22,
   "metadata": {},
   "outputs": [],
   "source": [
    "notes_tfv = tfv.transform(notes_clean_fixedtypos) \n",
    "names_tfv = tfv.transform(names_clean)"
   ]
  },
  {
   "cell_type": "code",
   "execution_count": 23,
   "metadata": {},
   "outputs": [
    {
     "name": "stdout",
     "output_type": "stream",
     "text": [
      "(306, 146)\n",
      "(63, 146)\n"
     ]
    }
   ],
   "source": [
    "print(notes_tfv.shape)\n",
    "print(names_tfv.shape)"
   ]
  },
  {
   "cell_type": "markdown",
   "metadata": {},
   "source": [
    "## 4) Get Similarities"
   ]
  },
  {
   "cell_type": "code",
   "execution_count": 24,
   "metadata": {},
   "outputs": [
    {
     "name": "stderr",
     "output_type": "stream",
     "text": [
      "100%|████████████████████████████████████████████████████████████████████████████████| 306/306 [00:07<00:00, 40.45it/s]\n"
     ]
    }
   ],
   "source": [
    "similarities = []\n",
    "for note in tqdm(notes_tfv, total=notes_tfv.shape[0]):\n",
    "    cs_ = []\n",
    "    for name in names_tfv:\n",
    "        cs = cosine_similarity(note, name)[0][0]\n",
    "        cs_.append(cs)\n",
    "    argmax_cs = np.argmax(cs_)\n",
    "    similarities.append((argmax_cs, cs_[argmax_cs]))"
   ]
  },
  {
   "cell_type": "code",
   "execution_count": 25,
   "metadata": {},
   "outputs": [
    {
     "name": "stdout",
     "output_type": "stream",
     "text": [
      "[(0, 0.0), (0, 0.0), (0, 0.0), (45, 0.44504101549158), (0, 0.0), (0, 0.0), (0, 0.0), (0, 0.0), (26, 0.6597824379328586), (0, 0.0), (8, 0.5814988633349439), (40, 0.48872277819605203), (36, 0.6717174820214451), (0, 0.0), (0, 0.0)]\n"
     ]
    }
   ],
   "source": [
    "print(similarities[:15])"
   ]
  },
  {
   "cell_type": "code",
   "execution_count": 26,
   "metadata": {},
   "outputs": [],
   "source": [
    "# Plot Similarity Percentiles\n",
    "cs__ = [cs for arg_cs, cs in similarities]\n",
    "percentiles = []\n",
    "for i in range(100):\n",
    "    percentiles.append(np.percentile(cs__, i))"
   ]
  },
  {
   "cell_type": "code",
   "execution_count": 27,
   "metadata": {},
   "outputs": [
    {
     "data": {
      "image/png": "[encoded data removed]",
      "text/plain": [
       "<Figure size 432x288 with 1 Axes>"
      ]
     },
     "metadata": {
      "needs_background": "light"
     },
     "output_type": "display_data"
    }
   ],
   "source": [
    "plt.plot(percentiles, np.arange(100))\n",
    "plt.show()"
   ]
  },
  {
   "cell_type": "code",
   "execution_count": 28,
   "metadata": {},
   "outputs": [
    {
     "name": "stdout",
     "output_type": "stream",
     "text": [
      "0.16700450209690598\n"
     ]
    }
   ],
   "source": [
    "print(percentiles[50]) # Median"
   ]
  },
  {
   "cell_type": "markdown",
   "metadata": {},
   "source": [
    "## 5) Results"
   ]
  },
  {
   "cell_type": "code",
   "execution_count": 29,
   "metadata": {},
   "outputs": [],
   "source": [
    "n_matches = 0\n",
    "threshold = percentiles[75] # use 75 percentile as cs threshold\n",
    "i = 0\n",
    "matches = []\n",
    "for arg_cs, cs in similarities:\n",
    "    if cs > threshold:\n",
    "        matches.append((cs, notes[i][2:-3], notes_clean_fixedtypos[i], names_clean[arg_cs]))\n",
    "        n_matches += 1\n",
    "    i += 1"
   ]
  },
  {
   "cell_type": "code",
   "execution_count": 30,
   "metadata": {},
   "outputs": [
    {
     "data": {
      "text/plain": [
       "77"
      ]
     },
     "execution_count": 30,
     "metadata": {},
     "output_type": "execute_result"
    }
   ],
   "source": [
    "n_matches"
   ]
  },
  {
   "cell_type": "code",
   "execution_count": 31,
   "metadata": {},
   "outputs": [],
   "source": [
    "matches.sort(key=lambda x: x[0], reverse=True)"
   ]
  },
  {
   "cell_type": "code",
   "execution_count": 32,
   "metadata": {},
   "outputs": [],
   "source": [
    "df = pd.DataFrame(matches, columns=['Score', 'Doctors Notes', 'Doctors Notes (cleaned)', 'Formal Name (cleaned)'])"
   ]
  },
  {
   "cell_type": "code",
   "execution_count": 33,
   "metadata": {},
   "outputs": [
    {
     "name": "stdout",
     "output_type": "stream",
     "text": [
      "       Score                                                                                                  Doctors Notes                                                                                        Doctors Notes (cleaned)                   Formal Name (cleaned)\n",
      "0   1.000000                                                                        CARDIAC CATHETERIZATION 1/5/21, 1/21,21                                                                                          cardiac catherization                   cardiac catherization\n",
      "1   1.000000                                                                                          CARDIAC CATHERISATION                                                                                          cardiac catherization                   cardiac catherization\n",
      "2   1.000000                                                                                    LAPROSCOPIC CHOLECYSTECTOMY                                                                                    laproscopic cholecystectomy                         cholecystectomy\n",
      "3   1.000000                                                                      VITRECTOMY WITH RETINAL DETACHMENT REPAIR                                                                      vitrectomy with retinal detachment repair            repair of retinal detachment\n",
      "4   1.000000  EXPANDED ENDOSCOPIC ENDONASAL APPROACH FOR RESECTION OF CRAINOPHARYNGIOMA AND TRANSDERMAL PITUITARY RESECTION  expanded endoscopic endonasal approach for resection of crainopharyngioma and transdermal pituitary resection                         colon resection\n",
      "5   1.000000                                                                                            ROTATOR CUFF REPAIR                                                                                            rotator cuff repair                     rotator cuff repair\n",
      "6   1.000000                                                              RECTAL EXAM UNDER ANESTHESIA WITH SETON PLACEMENT                                                              rectal exam under anesthesia with seton placement                         shunt placement\n",
      "7   1.000000                                                                                                  ICD PLACEMENT                                                                                                  icd placement                           icd placement\n",
      "8   1.000000                                                                                        ELBOW RADICLE RESECTION                                                                                        elbow radicle resection                         colon resection\n",
      "9   1.000000                                                                                       APAROSCOPIC APPENDECTORY                                                                                       aparoscopic appendectomy                            appendectomy\n",
      "10  1.000000                                                                                            LAMINECTOMY, LUMBAR                                                                                             laminectomy lumbar                             laminectomy\n",
      "11  1.000000                                                                                          CARPAL TUNNEL RELEASE                                                                                          carpal tunnel release                   carpal tunnel release\n",
      "12  1.000000                                                                                              SIGMOID RESECTION                                                                                              sigmoid resection                         colon resection\n",
      "13  1.000000                                                                                       AORTIC VALUE REPLACEMENT                                                                                       aortic value replacement  transthoracic aortic valve replacement\n",
      "14  0.948684                                                         LEFT CARPAL TUNNEL RELEASE RIGHT CARPAL TUNNEL RELEASE                                                         left carpal tunnel release right carpal tunnel release                   carpal tunnel release\n",
      "15  0.945448                                                                                       RIGHT ACL RECONSTRUCTION                                                                                       right acl reconstruction                      acl reconstruction\n",
      "16  0.929529                                                                               ROTATOR CUFF REPAIR, ARTHROSCOPY                                                                                rotator cuff repair arthroscopy                     rotator cuff repair\n",
      "17  0.918585                                                                  (R) SHOULDERSCOPE, ROTATOR CUFF REPAIR SINGLE                                                                     r shoulderscope rotator cuff repair single                     rotator cuff repair\n",
      "18  0.900158                                                                               ARTHROSCOPIC ROTATOR CUFF REPAIR                                                                               arthroscopic rotator cuff repair                     rotator cuff repair\n",
      "19  0.880039                                      RIGHT ARTHOSCOPY, KNEE, WITH ACL RECONSTRUCTION USING HAMSTRING AUTOGRAFT                                        right arthoscopy knee with acl reconstruction using hamstring autograft                      acl reconstruction\n",
      "20  0.873659                                                        2-2-21 RIGHT CARPAL TUNNEL RELEASED 2/23/21 LEFT CARPAL                                                                        right carpal tunnel release left carpal                   carpal tunnel release\n",
      "21  0.834495                                                                         RIGHT SHOULDER ROTATOR CUFF REPAIR, AC                                                                          right shoulder rotator cuff repair ac                     rotator cuff repair\n",
      "22  0.826310                                                            TOTAL KNEE REPLACMENT MANIPULATION UNDER ANESTHESIA                                                           total knee replacement manipulation under anesthesia                        knee replacement\n",
      "23  0.807341                                                                                 L SHOULDER ROTATOR CUFF REPAIR                                                                                 l shoulder rotator cuff repair                     rotator cuff repair\n",
      "24  0.777940                                                                                 LAPAROSCOPIC SIGMOID RESECTION                                                                                 laparoscopic sigmoid resection                         colon resection\n",
      "25  0.775690                                                                       RIGHT KNEE A/S ACL RECONSTRUCTION W/BPTB                                                                         right knee as acl reconstruction wbptb                      acl reconstruction\n",
      "26  0.762301                                                                                SPIRAL HEMI LAMINECTOMY L LUMBA                                                                                spiral hemi laminectomy l lumba                             laminectomy\n",
      "27  0.758188                                 L SHOULDER SCOPE W/ ROTATOR CUFF REPAIR, BICEPS TENODESIS, EXT DEBR, OCE & SAD                                       l shoulder scope w rotator cuff repair biceps tenodesis ext debr oce sad                     rotator cuff repair\n",
      "28  0.748584                                                                                     ARTHROSCOPIC LABRAL REPAIR                                                                                     arthroscopic labral repair                       hip labral repair\n",
      "29  0.743755                                                                                                 AFGIB ABLATION                                                                                                 afgib ablation                        cardiac ablation\n",
      "30  0.729878                                                                           LOPAROSCOPY BILATERAL SALPINGEECTOMY                                                                           laparoscopy bilateral salpingeectomy                             laparoscopy\n",
      "31  0.727501                                                                         CHOLECYSTECTOMY, ERCP, DRAIN PLACEMENT                                                                           cholecystectomy ercp drain placement                         shunt placement\n",
      "32  0.722930                                              LEFT HIP ARTHROSCOPY , LABRAL REPAIR CAM RESECTION, RIM RESECTION                                                 left hip arthroscopy labral repair cam resection rim resection                       hip labral repair\n",
      "33  0.701183                                                                                   LEFT PROXIMAL HOUSING REPAIR                                                                                   left proximal housing repair            repair of retinal detachment\n",
      "34  0.684021           LEFT CVARIS OSTEOTOMY, LEFT COTTON OSTEOTOMY, LEFT GASTROC RECESSION, POSTERIOR TIBIAL TENDON REPAIR              left cvaris osteotomy left cotton osteotomy left gastroc recession posterior tibial tendon repair     posterior tibial tendon dysfunction\n",
      "35  0.683577                                                                                             GASTRIC BYPASS LAP                                                                                             gastric bypass lap                          gastric bypass\n",
      "36  0.679691                                                                                           THORACIC LAMINECTOMY                                                                                           thoracic laminectomy                             laminectomy\n",
      "37  0.671717                                                                                   RIGHT TOTAL KNEE REPLACEMENT                                                                                   right total knee replacement                        knee replacement\n",
      "38  0.668452                                                                                CARDIAC CATHERYSTION WITH STENT                                                                                cardiac catherystion with stent                   cardiac assist device\n",
      "39  0.659782                                                                                           PT WILL HAVE SURGERY                                                                                           pt will have surgery                          breast surgery\n",
      "40  0.659782                                                                                         SURGERY DATE 2/23/2021                                                                                                   surgery date                          breast surgery\n",
      "41  0.659782                                                                                      SURGERY SCHED FOR 2/18/21                                                                                              surgery sched for                          breast surgery\n",
      "42  0.659782                                                                                                   LUNG SURGERY                                                                                                   lung surgery                          breast surgery\n",
      "43  0.659782                                                      10/19/2020 & 11/30/2020 SURGERY FOR BRAIN NEUROSTIMULATOR                                                                              surgery for brain neurostimulator                          breast surgery\n",
      "44  0.659782                                                                                             CATATARACT SURGERY                                                                                             catataract surgery                          breast surgery\n",
      "45  0.657927                                                                           SCHEDULED BILL REDUCTION MAMMOPLASTY                                                                           scheduled bill reduction mammoplasty                             mammoplasty\n",
      "46  0.657927                                                                           SCHEDULED BIL. REDUCTION MAMMOPLASTY                                                                            scheduled bil reduction mammoplasty                             mammoplasty\n",
      "47  0.656288                                                                                   2/8/21 RIGHT HIP REPLACEMENT                                                                                          right hip replacement                 thumb joint replacement\n",
      "48  0.653014                                                                               REPAIR ASCENDING AORTIC ANEURYSM                                                                               repair ascending aortic aneurysm  transthoracic aortic valve replacement\n",
      "49  0.647222                                                           BLADDER BIOPSY & TRANSURETHRAL RESECTION OF PROSTATE                                                             bladder biopsy transurethral resection of prostate                         colon resection\n",
      "50  0.644525                                                                            SCHEDULED 3/12/21 FOR PTOSIS REPAIR                                                                                    scheduled for ptosis repair            repair of retinal detachment\n",
      "51  0.635633                                                                     LEFT COMMON FEMORAL THROMBOENDAARTERECTOMY                                                                     left common femoral thromboendaarterectomy                femoral popliteal bypass\n",
      "52  0.634012                                                                                            LAP CHOLECYSTECTOMY                                                                                            lap cholecystectomy                         cholecystectomy\n",
      "53  0.630415                                                                                        UMBILICAL HERNIA REPAIR                                                                                        umbilical hernia repair                           hernia repair\n",
      "54  0.630415                                                                                        UMBILICAL HERNIA REPAIR                                                                                        umbilical hernia repair                           hernia repair\n",
      "55  0.630415                                                                           INCARCERATED UMBILICAL HERNIA REPAIR                                                                           incarcerated umbilical hernia repair                           hernia repair\n",
      "56  0.625646                                                                       ROBOTIC RIGHT VATS, ESOPHAGEAL RESECTION                                                                        robotic right vats esophageal resection                         colon resection\n",
      "57  0.618327                                                                                 CRANIOTOMY FOR TUMAR RESECTION                                                                                 craniotomy for tumar resection                         colon resection\n",
      "58  0.605026                                                                                      LAPAROSCOPIC APPENDECTOMY                                                                                      laparoscopic appendectomy                            appendectomy\n",
      "59  0.605026                                                                                      LAPAROSCOPIC APPENDECTOMY                                                                                      laparoscopic appendectomy                            appendectomy\n",
      "60  0.605026                                                                                      LAPAROSCOPIC APPENDECTOMY                                                                                      laparoscopic appendectomy                            appendectomy\n",
      "61  0.605026                                                                                      LAPAROSCOPIC APPENOECTOMY                                                                                      laparoscopic appendectomy                            appendectomy\n",
      "62  0.603799                                                                           LAPAROSCOPIC UMBILICAL HERNIA REPAIR                                                                           laparoscopic umbilical hernia repair                           hernia repair\n",
      "63  0.598507                                                                                    RIGHT TOTAL HIP ARTHOPLASTY                                                                                   right total hip arthroplasty                  hip arthroplasty total\n",
      "64  0.598507                                                                                  RIGHT TOTAL HIP ARTHROPLASTY.                                                                                   right total hip arthroplasty                  hip arthroplasty total\n",
      "65  0.598507                                                                                   RIGHT TOTAL HIP ARTHROPLASTY                                                                                   right total hip arthroplasty                  hip arthroplasty total\n",
      "66  0.598507                                                                                   RIGHT TOTAL HIP ARTHROPLASTY                                                                                   right total hip arthroplasty                  hip arthroplasty total\n",
      "67  0.588599                                                                          RECTR C INSITU CUBITAL TUNNEL RELEASE                                                                          rectr c insitu cubital tunnel release                   carpal tunnel release\n",
      "68  0.581499                                                                                   LAPAROSCOPIC CHOLECYCTECTOMY                                                                                   laparoscopic cholecystectomy                         cholecystectomy\n",
      "69  0.581499                                                                                   LAPAROSCOPIC CHOLECYSTECTOMY                                                                                   laparoscopic cholecystectomy                         cholecystectomy\n",
      "70  0.581499                                                                                   LAPAROSCOPIC CHOLOCYSTECTOMY                                                                                   laparoscopic cholecystectomy                         cholecystectomy\n",
      "71  0.581499                                                                            2/1/21 LAPAROSCOPIC CHOLECYSTECTOMY                                                                                   laparoscopic cholecystectomy                         cholecystectomy\n",
      "72  0.581499                                                                                   LAPAROSCOPIC CHOLECUSTECTOMY                                                                                   laparoscopic cholecystectomy                         cholecystectomy\n",
      "73  0.581499                                                                                   LAPAROSCOPIC CHOLECYSTECTOMY                                                                                   laparoscopic cholecystectomy                         cholecystectomy\n",
      "74  0.568699                                                                     CRANIOTOMY FOR RESECTION OF RIGHT ANTERIOR                                                                     craniotomy for resection of right anterior                         colon resection\n",
      "75  0.568165                      AKIN OSTEOTOMY, CHEILECTOMY, AND 2ND AND 3RD TARSOMETATARSAL ARTHRODESIS OF THE LEFT FOOT                        akin osteotomy cheilectomy and 2nd and 3rd tarsometatarsal arthrodesis of the left foot                      triple arthrodesis\n",
      "76  0.565018                                                                       LEFT CARPAL TUNNEL & DEQUERVAINS RELAESE                                                                         left carpal tunnel dequervains relaese                   carpal tunnel release\n"
     ]
    }
   ],
   "source": [
    "print(df.to_string())"
   ]
  },
  {
   "cell_type": "markdown",
   "metadata": {},
   "source": [
    "## 6) Visualization"
   ]
  },
  {
   "cell_type": "code",
   "execution_count": 34,
   "metadata": {},
   "outputs": [],
   "source": [
    "# Can use t-sne or PCA"
   ]
  }
 ],
 "metadata": {
  "kernelspec": {
   "display_name": "Python 3",
   "language": "python",
   "name": "python3"
  },
  "language_info": {
   "codemirror_mode": {
    "name": "ipython",
    "version": 3
   },
   "file_extension": ".py",
   "mimetype": "text/x-python",
   "name": "python",
   "nbconvert_exporter": "python",
   "pygments_lexer": "ipython3",
   "version": "3.8.7"
  }
 },
 "nbformat": 4,
 "nbformat_minor": 4
}
